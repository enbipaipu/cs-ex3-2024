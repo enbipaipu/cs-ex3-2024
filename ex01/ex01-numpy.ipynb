{
 "cells": [
  {
   "cell_type": "markdown",
   "id": "623500c2-e18a-4321-910a-93cbe2da51a6",
   "metadata": {},
   "source": [
    "#### ndarrayの生成"
   ]
  },
  {
   "cell_type": "code",
   "execution_count": 1,
   "id": "a2388d20-7235-4c67-b0c2-c2057c24b551",
   "metadata": {},
   "outputs": [],
   "source": [
    "import numpy as np"
   ]
  },
  {
   "cell_type": "code",
   "execution_count": 2,
   "id": "da813f94-51c3-44c0-bde5-295f059c92fd",
   "metadata": {},
   "outputs": [
    {
     "name": "stdout",
     "output_type": "stream",
     "text": [
      "[5 9 1]\n"
     ]
    }
   ],
   "source": [
    "a1 = np.array([5, 9, 1])\n",
    "print(a1)"
   ]
  },
  {
   "cell_type": "code",
   "execution_count": 3,
   "id": "a7720d88-a6d6-4d5d-86ce-b52176e7858c",
   "metadata": {},
   "outputs": [
    {
     "name": "stdout",
     "output_type": "stream",
     "text": [
      "[[1 2 3]\n",
      " [4 5 6]]\n"
     ]
    }
   ],
   "source": [
    "a2 = np.array([[1, 2, 3],[4, 5, 6]])\n",
    "print(a2)"
   ]
  },
  {
   "cell_type": "code",
   "execution_count": 4,
   "id": "1eec25ce-8646-4671-852f-9cef09042cee",
   "metadata": {},
   "outputs": [
    {
     "name": "stdout",
     "output_type": "stream",
     "text": [
      "(3,)\n"
     ]
    }
   ],
   "source": [
    "print(a1.shape)"
   ]
  },
  {
   "cell_type": "code",
   "execution_count": 5,
   "id": "5c287b9c-3f3d-4559-abe0-c0ead0d7b3db",
   "metadata": {},
   "outputs": [
    {
     "name": "stdout",
     "output_type": "stream",
     "text": [
      "(2, 3)\n"
     ]
    }
   ],
   "source": [
    "print(a2.shape)"
   ]
  },
  {
   "cell_type": "markdown",
   "id": "b3646673-2c13-44b7-9d76-8cfaa7806795",
   "metadata": {},
   "source": [
    "#### ndarrayの算術演算"
   ]
  },
  {
   "cell_type": "code",
   "execution_count": 6,
   "id": "0b57b0ae-c6c3-4ba2-b02b-d515d4099851",
   "metadata": {},
   "outputs": [
    {
     "name": "stdout",
     "output_type": "stream",
     "text": [
      "[15 19 11]\n"
     ]
    }
   ],
   "source": [
    "print(a1 + 10)\n"
   ]
  },
  {
   "cell_type": "code",
   "execution_count": 7,
   "id": "d68f3b2f-5419-49f5-a906-699b5861cbab",
   "metadata": {},
   "outputs": [
    {
     "name": "stdout",
     "output_type": "stream",
     "text": [
      "[4 8 0]\n"
     ]
    }
   ],
   "source": [
    "print(a1 - 1)\n"
   ]
  },
  {
   "cell_type": "code",
   "execution_count": 8,
   "id": "d7bdb848-b38a-42be-898f-e8b18156db1f",
   "metadata": {},
   "outputs": [
    {
     "name": "stdout",
     "output_type": "stream",
     "text": [
      "[0.2        0.11111111 1.        ]\n"
     ]
    }
   ],
   "source": [
    "print(1 / a1)\n"
   ]
  },
  {
   "cell_type": "code",
   "execution_count": 9,
   "id": "e5f009df-ac68-49ed-aded-f3c3e2ac84d6",
   "metadata": {},
   "outputs": [
    {
     "name": "stdout",
     "output_type": "stream",
     "text": [
      "[25 81  1]\n"
     ]
    }
   ],
   "source": [
    "print(a1 * a1)\n"
   ]
  },
  {
   "cell_type": "code",
   "execution_count": 10,
   "id": "b98492c9-6ea2-4582-b1f4-e532bfeeb417",
   "metadata": {},
   "outputs": [
    {
     "name": "stdout",
     "output_type": "stream",
     "text": [
      "[125 729   1]\n"
     ]
    }
   ],
   "source": [
    "print(a1 ** 3)"
   ]
  },
  {
   "cell_type": "markdown",
   "id": "7ed8f574-41d5-4dde-a190-5efff18e44cf",
   "metadata": {},
   "source": [
    "#### ブロードキャスト"
   ]
  },
  {
   "cell_type": "code",
   "execution_count": 11,
   "id": "ba7a3d07-62ec-46fa-9fa7-efdda60fc79f",
   "metadata": {},
   "outputs": [
    {
     "name": "stdout",
     "output_type": "stream",
     "text": [
      "[[1 2 3]\n",
      " [2 3 4]\n",
      " [3 4 5]]\n"
     ]
    }
   ],
   "source": [
    "a1 = np.array([[0], [1], [2]])\n",
    "b1 = np.array([1, 2, 3])\n",
    "print(a1 + b1)"
   ]
  },
  {
   "cell_type": "code",
   "execution_count": 12,
   "id": "0aa35747-edf8-43c4-a996-ea73c91c3785",
   "metadata": {},
   "outputs": [
    {
     "ename": "ValueError",
     "evalue": "operands could not be broadcast together with shapes (3,2) (2,3) ",
     "output_type": "error",
     "traceback": [
      "\u001b[1;31m---------------------------------------------------------------------------\u001b[0m",
      "\u001b[1;31mValueError\u001b[0m                                Traceback (most recent call last)",
      "Cell \u001b[1;32mIn[12], line 3\u001b[0m\n\u001b[0;32m      1\u001b[0m a2 \u001b[38;5;241m=\u001b[39m np\u001b[38;5;241m.\u001b[39marray([[\u001b[38;5;241m0\u001b[39m, \u001b[38;5;241m1\u001b[39m], [\u001b[38;5;241m2\u001b[39m, \u001b[38;5;241m3\u001b[39m], [\u001b[38;5;241m4\u001b[39m, \u001b[38;5;241m5\u001b[39m]])\n\u001b[0;32m      2\u001b[0m b2 \u001b[38;5;241m=\u001b[39m np\u001b[38;5;241m.\u001b[39marray([[\u001b[38;5;241m1\u001b[39m, \u001b[38;5;241m2\u001b[39m, \u001b[38;5;241m3\u001b[39m], [\u001b[38;5;241m4\u001b[39m, \u001b[38;5;241m5\u001b[39m, \u001b[38;5;241m6\u001b[39m]])\n\u001b[1;32m----> 3\u001b[0m \u001b[38;5;28mprint\u001b[39m(\u001b[43ma2\u001b[49m\u001b[43m \u001b[49m\u001b[38;5;241;43m+\u001b[39;49m\u001b[43m \u001b[49m\u001b[43mb2\u001b[49m)\n",
      "\u001b[1;31mValueError\u001b[0m: operands could not be broadcast together with shapes (3,2) (2,3) "
     ]
    }
   ],
   "source": [
    "a2 = np.array([[0, 1], [2, 3], [4, 5]])\n",
    "b2 = np.array([[1, 2, 3], [4, 5, 6]])\n",
    "print(a2 + b2)"
   ]
  },
  {
   "cell_type": "code",
   "execution_count": 13,
   "id": "9bc121a0-fc25-4f5b-af3e-1e94c25a294b",
   "metadata": {},
   "outputs": [
    {
     "name": "stdout",
     "output_type": "stream",
     "text": [
      "[[[ 2  3  4]\n",
      "  [ 8  9 10]]\n",
      "\n",
      " [[ 8  9 10]\n",
      "  [14 15 16]]]\n"
     ]
    }
   ],
   "source": [
    "a3 = np.array([[[1, 2, 3], [4, 5, 6]], [[7, 8, 9], [10, 11, 12]]])\n",
    "b3 = np.array([[1], [4]])\n",
    "print(a3 + b3)"
   ]
  }
 ],
 "metadata": {
  "kernelspec": {
   "display_name": "Python 3 (ipykernel)",
   "language": "python",
   "name": "python3"
  },
  "language_info": {
   "codemirror_mode": {
    "name": "ipython",
    "version": 3
   },
   "file_extension": ".py",
   "mimetype": "text/x-python",
   "name": "python",
   "nbconvert_exporter": "python",
   "pygments_lexer": "ipython3",
   "version": "3.9.15"
  }
 },
 "nbformat": 4,
 "nbformat_minor": 5
}
