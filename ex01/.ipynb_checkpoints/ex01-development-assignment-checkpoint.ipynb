{
 "cells": [
  {
   "cell_type": "code",
   "execution_count": 3,
   "id": "4cd86b24-7cfc-4567-88eb-bfd5dbc1dce2",
   "metadata": {},
   "outputs": [
    {
     "name": "stdout",
     "output_type": "stream",
     "text": [
      "[0, 6, 14]\n",
      "[24, 36, 50]\n"
     ]
    }
   ],
   "source": [
    "a = [[0, 1, 2], [3, 4, 5]]\n",
    "b = [[5, 6, 7], [8, 9, 10]]\n",
    "\n",
    "ans = [[None]*(3) for _ in range(2)]\n",
    "\n",
    "for y in range(2):\n",
    "    for x in range(3):\n",
    "        ans[y][x] = a[y][x] * b[y][x]\n",
    "\n",
    "for s in ans:\n",
    "    print(s)"
   ]
  },
  {
   "cell_type": "code",
   "execution_count": null,
   "id": "99e0d9d4-7d90-4e46-a8b7-a27758279c78",
   "metadata": {},
   "outputs": [],
   "source": []
  }
 ],
 "metadata": {
  "kernelspec": {
   "display_name": "Python 3 (ipykernel)",
   "language": "python",
   "name": "python3"
  },
  "language_info": {
   "codemirror_mode": {
    "name": "ipython",
    "version": 3
   },
   "file_extension": ".py",
   "mimetype": "text/x-python",
   "name": "python",
   "nbconvert_exporter": "python",
   "pygments_lexer": "ipython3",
   "version": "3.9.15"
  }
 },
 "nbformat": 4,
 "nbformat_minor": 5
}
