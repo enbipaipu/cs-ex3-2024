{
 "cells": [
  {
   "cell_type": "markdown",
   "id": "739ccb7c-8122-4a75-9858-aa96ab7b3e30",
   "metadata": {},
   "source": [
    "#### numpyライブラリをインポート"
   ]
  },
  {
   "cell_type": "code",
   "execution_count": 1,
   "id": "d1512722-49cf-4238-8781-a0b1f3dd6cd0",
   "metadata": {},
   "outputs": [],
   "source": [
    "import numpy as np"
   ]
  },
  {
   "cell_type": "markdown",
   "id": "605eb6c1-dc4d-45a9-8b90-3dd74d446987",
   "metadata": {},
   "source": [
    "#### ndarrayを作成し、a1に代入"
   ]
  },
  {
   "cell_type": "code",
   "execution_count": 3,
   "id": "4567cb9e-f705-4ed3-b065-24215d040ff9",
   "metadata": {},
   "outputs": [
    {
     "name": "stdout",
     "output_type": "stream",
     "text": [
      "[[ 5  6  7]\n",
      " [ 8  9 10]]\n"
     ]
    }
   ],
   "source": [
    "a1 = np.array([[5, 6, 7], [8, 9, 10]])\n",
    "print(a1)"
   ]
  },
  {
   "cell_type": "markdown",
   "id": "d906db10-9231-409f-85c1-8f119f7b124c",
   "metadata": {},
   "source": [
    "#### ndarrayを作成し、変数a2に代入"
   ]
  },
  {
   "cell_type": "code",
   "execution_count": 4,
   "id": "3ce28958-e720-4100-91af-3b355da69c30",
   "metadata": {},
   "outputs": [
    {
     "name": "stdout",
     "output_type": "stream",
     "text": [
      "[[10 11 12]\n",
      " [13 14 15]]\n"
     ]
    }
   ],
   "source": [
    "a2 = np.array([[10, 11, 12], [13, 14, 15]])\n",
    "print(a2)"
   ]
  },
  {
   "cell_type": "markdown",
   "id": "e0f7b4af-ae72-4982-ba29-e9ce3431c1d0",
   "metadata": {},
   "source": [
    "#### ndarrayを作成し、変数a3に代入"
   ]
  },
  {
   "cell_type": "code",
   "execution_count": 5,
   "id": "331bbcf9-b8f8-4295-abf4-c7cfd0d35f01",
   "metadata": {},
   "outputs": [
    {
     "name": "stdout",
     "output_type": "stream",
     "text": [
      "[[1 2]\n",
      " [3 4]\n",
      " [5 6]]\n"
     ]
    }
   ],
   "source": [
    "a3 = np.array([[1, 2], [3, 4], [5, 6]])\n",
    "print(a3)"
   ]
  },
  {
   "cell_type": "markdown",
   "id": "1e6e767c-bb39-48b4-8541-1a135378541d",
   "metadata": {},
   "source": [
    "#### ndarrayを作成し、変数a4に代入"
   ]
  },
  {
   "cell_type": "code",
   "execution_count": 6,
   "id": "9c74a2b4-00ba-433d-b520-3d97e751ef97",
   "metadata": {},
   "outputs": [
    {
     "name": "stdout",
     "output_type": "stream",
     "text": [
      "[1 2 3 4 5]\n"
     ]
    }
   ],
   "source": [
    "a4 = np.array([1, 2, 3, 4, 5])\n",
    "print(a4)"
   ]
  },
  {
   "cell_type": "markdown",
   "id": "73226de8-ff00-447d-9b2d-fdb02f4e554e",
   "metadata": {},
   "source": [
    "#### a3の次元数と各軸の要素数"
   ]
  },
  {
   "cell_type": "code",
   "execution_count": 7,
   "id": "bfce2886-5db2-42b8-8507-24233554d632",
   "metadata": {},
   "outputs": [
    {
     "name": "stdout",
     "output_type": "stream",
     "text": [
      "(3, 2)\n"
     ]
    }
   ],
   "source": [
    "print(a3.shape)"
   ]
  },
  {
   "cell_type": "markdown",
   "id": "418b17de-edb4-43bb-9d46-6068f6f884d1",
   "metadata": {},
   "source": [
    "#### a4の次元数と各軸の要素数"
   ]
  },
  {
   "cell_type": "code",
   "execution_count": 8,
   "id": "8841ae38-a1e9-42dd-9bd1-c06923bfb814",
   "metadata": {},
   "outputs": [
    {
     "name": "stdout",
     "output_type": "stream",
     "text": [
      "(5,)\n"
     ]
    }
   ],
   "source": [
    "print(a4.shape)"
   ]
  },
  {
   "cell_type": "markdown",
   "id": "3ea18d17-7047-4561-8768-9954413e03d0",
   "metadata": {},
   "source": [
    "#### a1とa2の和を求め変数a5に代入"
   ]
  },
  {
   "cell_type": "code",
   "execution_count": 16,
   "id": "e9970322-7fde-4aa2-964e-9c01cdbd2359",
   "metadata": {},
   "outputs": [
    {
     "name": "stdout",
     "output_type": "stream",
     "text": [
      "[[ 5  6  7]\n",
      " [ 8  9 10]] [[10 11 12]\n",
      " [13 14 15]]\n",
      "----\n",
      "[[15 17 19]\n",
      " [21 23 25]]\n"
     ]
    }
   ],
   "source": [
    "a5 = a1 + a2\n",
    "print(a1 , a2)\n",
    "print(\"----\")\n",
    "print(a5)"
   ]
  },
  {
   "cell_type": "markdown",
   "id": "7fb802f2-dad2-487a-a9d5-9c991166630c",
   "metadata": {},
   "source": [
    "#### a4の各要素の2乗を求め、変数a6に代入せよ。"
   ]
  },
  {
   "cell_type": "code",
   "execution_count": 11,
   "id": "7f8754c0-909d-4919-a61d-d28b04bd5804",
   "metadata": {},
   "outputs": [
    {
     "name": "stdout",
     "output_type": "stream",
     "text": [
      "[1 2 3 4 5]\n",
      "[ 1  4  9 16 25]\n"
     ]
    }
   ],
   "source": [
    "a6 = a4 ** 2\n",
    "print(a4)\n",
    "print(a6)"
   ]
  }
 ],
 "metadata": {
  "kernelspec": {
   "display_name": "Python 3 (ipykernel)",
   "language": "python",
   "name": "python3"
  },
  "language_info": {
   "codemirror_mode": {
    "name": "ipython",
    "version": 3
   },
   "file_extension": ".py",
   "mimetype": "text/x-python",
   "name": "python",
   "nbconvert_exporter": "python",
   "pygments_lexer": "ipython3",
   "version": "3.9.15"
  }
 },
 "nbformat": 4,
 "nbformat_minor": 5
}
