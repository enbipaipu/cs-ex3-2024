{
 "cells": [
  {
   "cell_type": "code",
   "execution_count": 1,
   "id": "57d6e649-122e-4704-a049-e4bf68099587",
   "metadata": {},
   "outputs": [],
   "source": [
    "import pandas as pd\n",
    "import matplotlib.pyplot as plt"
   ]
  },
  {
   "cell_type": "code",
   "execution_count": 2,
   "id": "5c3ecf1a-3019-48c5-9f50-c7dd6ce9e360",
   "metadata": {},
   "outputs": [
    {
     "name": "stdout",
     "output_type": "stream",
     "text": [
      "(142, 5)\n"
     ]
    }
   ],
   "source": [
    "df = pd.read_csv(\"data/country_data.csv\", sep=\",\")\n",
    "print(df.shape)"
   ]
  },
  {
   "cell_type": "code",
   "execution_count": 3,
   "id": "f2a6fe9b-1eda-4aea-b056-817e63667b1c",
   "metadata": {},
   "outputs": [
    {
     "data": {
      "text/html": [
       "<div>\n",
       "<style scoped>\n",
       "    .dataframe tbody tr th:only-of-type {\n",
       "        vertical-align: middle;\n",
       "    }\n",
       "\n",
       "    .dataframe tbody tr th {\n",
       "        vertical-align: top;\n",
       "    }\n",
       "\n",
       "    .dataframe thead th {\n",
       "        text-align: right;\n",
       "    }\n",
       "</style>\n",
       "<table border=\"1\" class=\"dataframe\">\n",
       "  <thead>\n",
       "    <tr style=\"text-align: right;\">\n",
       "      <th></th>\n",
       "      <th>country</th>\n",
       "      <th>pop</th>\n",
       "      <th>continent</th>\n",
       "      <th>lifeExp</th>\n",
       "      <th>gdpPercap</th>\n",
       "    </tr>\n",
       "  </thead>\n",
       "  <tbody>\n",
       "    <tr>\n",
       "      <th>0</th>\n",
       "      <td>Afghanistan</td>\n",
       "      <td>31889923.0</td>\n",
       "      <td>Asia</td>\n",
       "      <td>43.828</td>\n",
       "      <td>974.580338</td>\n",
       "    </tr>\n",
       "    <tr>\n",
       "      <th>1</th>\n",
       "      <td>Albania</td>\n",
       "      <td>3600523.0</td>\n",
       "      <td>Europe</td>\n",
       "      <td>76.423</td>\n",
       "      <td>5937.029526</td>\n",
       "    </tr>\n",
       "    <tr>\n",
       "      <th>2</th>\n",
       "      <td>Algeria</td>\n",
       "      <td>33333216.0</td>\n",
       "      <td>Africa</td>\n",
       "      <td>72.301</td>\n",
       "      <td>6223.367465</td>\n",
       "    </tr>\n",
       "    <tr>\n",
       "      <th>3</th>\n",
       "      <td>Angola</td>\n",
       "      <td>12420476.0</td>\n",
       "      <td>Africa</td>\n",
       "      <td>42.731</td>\n",
       "      <td>4797.231267</td>\n",
       "    </tr>\n",
       "    <tr>\n",
       "      <th>4</th>\n",
       "      <td>Argentina</td>\n",
       "      <td>40301927.0</td>\n",
       "      <td>Americas</td>\n",
       "      <td>75.320</td>\n",
       "      <td>12779.379640</td>\n",
       "    </tr>\n",
       "  </tbody>\n",
       "</table>\n",
       "</div>"
      ],
      "text/plain": [
       "       country         pop continent  lifeExp     gdpPercap\n",
       "0  Afghanistan  31889923.0      Asia   43.828    974.580338\n",
       "1      Albania   3600523.0    Europe   76.423   5937.029526\n",
       "2      Algeria  33333216.0    Africa   72.301   6223.367465\n",
       "3       Angola  12420476.0    Africa   42.731   4797.231267\n",
       "4    Argentina  40301927.0  Americas   75.320  12779.379640"
      ]
     },
     "metadata": {},
     "output_type": "display_data"
    }
   ],
   "source": [
    "display(df.head())"
   ]
  },
  {
   "cell_type": "code",
   "execution_count": 4,
   "id": "6719d330-9fb3-41a9-9998-0e94ea4d2282",
   "metadata": {},
   "outputs": [
    {
     "name": "stdout",
     "output_type": "stream",
     "text": [
      "<class 'pandas.core.frame.DataFrame'>\n",
      "RangeIndex: 142 entries, 0 to 141\n",
      "Data columns (total 5 columns):\n",
      " #   Column     Non-Null Count  Dtype  \n",
      "---  ------     --------------  -----  \n",
      " 0   country    142 non-null    object \n",
      " 1   pop        142 non-null    float64\n",
      " 2   continent  142 non-null    object \n",
      " 3   lifeExp    142 non-null    float64\n",
      " 4   gdpPercap  142 non-null    float64\n",
      "dtypes: float64(3), object(2)\n",
      "memory usage: 5.7+ KB\n",
      "None\n"
     ]
    }
   ],
   "source": [
    "print(df.info())"
   ]
  },
  {
   "cell_type": "code",
   "execution_count": 5,
   "id": "d487b385-ee28-499b-9ec4-7175a91b5707",
   "metadata": {},
   "outputs": [
    {
     "name": "stdout",
     "output_type": "stream",
     "text": [
      "<class 'pandas.core.frame.DataFrame'>\n",
      "RangeIndex: 142 entries, 0 to 141\n",
      "Data columns (total 5 columns):\n",
      " #   Column     Non-Null Count  Dtype  \n",
      "---  ------     --------------  -----  \n",
      " 0   country    142 non-null    object \n",
      " 1   pop        142 non-null    int32  \n",
      " 2   continent  142 non-null    object \n",
      " 3   lifeExp    142 non-null    float64\n",
      " 4   gdpPercap  142 non-null    float64\n",
      "dtypes: float64(2), int32(1), object(2)\n",
      "memory usage: 5.1+ KB\n",
      "None\n"
     ]
    }
   ],
   "source": [
    "df[\"pop\"] = df[\"pop\"].astype(\"int\")\n",
    "print(df.info())"
   ]
  },
  {
   "cell_type": "markdown",
   "id": "da216f2a-12ac-4593-83d2-9d3b836ec712",
   "metadata": {},
   "source": [
    "#### ヨーロッパの数"
   ]
  },
  {
   "cell_type": "code",
   "execution_count": 6,
   "id": "2cbec90e-c8cf-4326-b36e-7865a6a44841",
   "metadata": {},
   "outputs": [
    {
     "name": "stdout",
     "output_type": "stream",
     "text": [
      "30\n"
     ]
    }
   ],
   "source": [
    "print(df[df[\"continent\"]==\"Europe\"][\"continent\"].count())"
   ]
  },
  {
   "cell_type": "code",
   "execution_count": 7,
   "id": "c46ace13-5cf0-4e6f-ac95-fef1ea899ce8",
   "metadata": {},
   "outputs": [],
   "source": [
    "#### 4. "
   ]
  },
  {
   "cell_type": "code",
   "execution_count": 8,
   "id": "748bd8bd-c75e-463b-8004-f1fac16e78cc",
   "metadata": {},
   "outputs": [
    {
     "data": {
      "text/html": [
       "<div>\n",
       "<style scoped>\n",
       "    .dataframe tbody tr th:only-of-type {\n",
       "        vertical-align: middle;\n",
       "    }\n",
       "\n",
       "    .dataframe tbody tr th {\n",
       "        vertical-align: top;\n",
       "    }\n",
       "\n",
       "    .dataframe thead th {\n",
       "        text-align: right;\n",
       "    }\n",
       "</style>\n",
       "<table border=\"1\" class=\"dataframe\">\n",
       "  <thead>\n",
       "    <tr style=\"text-align: right;\">\n",
       "      <th></th>\n",
       "      <th>country</th>\n",
       "      <th>pop</th>\n",
       "    </tr>\n",
       "  </thead>\n",
       "  <tbody>\n",
       "    <tr>\n",
       "      <th>0</th>\n",
       "      <td>Afghanistan</td>\n",
       "      <td>31889923</td>\n",
       "    </tr>\n",
       "    <tr>\n",
       "      <th>1</th>\n",
       "      <td>Albania</td>\n",
       "      <td>3600523</td>\n",
       "    </tr>\n",
       "    <tr>\n",
       "      <th>2</th>\n",
       "      <td>Algeria</td>\n",
       "      <td>33333216</td>\n",
       "    </tr>\n",
       "    <tr>\n",
       "      <th>3</th>\n",
       "      <td>Angola</td>\n",
       "      <td>12420476</td>\n",
       "    </tr>\n",
       "    <tr>\n",
       "      <th>4</th>\n",
       "      <td>Argentina</td>\n",
       "      <td>40301927</td>\n",
       "    </tr>\n",
       "  </tbody>\n",
       "</table>\n",
       "</div>"
      ],
      "text/plain": [
       "       country       pop\n",
       "0  Afghanistan  31889923\n",
       "1      Albania   3600523\n",
       "2      Algeria  33333216\n",
       "3       Angola  12420476\n",
       "4    Argentina  40301927"
      ]
     },
     "metadata": {},
     "output_type": "display_data"
    }
   ],
   "source": [
    "p = df[[\"country\", \"pop\"]]\n",
    "display(p.head())"
   ]
  },
  {
   "cell_type": "markdown",
   "id": "b0a13259-7bf1-4634-bc88-d7dfa88f2e16",
   "metadata": {},
   "source": [
    "#### 5. 高い平均寿命"
   ]
  },
  {
   "cell_type": "code",
   "execution_count": 9,
   "id": "8a55d2c3-108e-415f-b87b-7499cfa3ae8b",
   "metadata": {},
   "outputs": [
    {
     "name": "stdout",
     "output_type": "stream",
     "text": [
      "82.603\n"
     ]
    }
   ],
   "source": [
    "print(df[\"lifeExp\"].max())"
   ]
  },
  {
   "cell_type": "markdown",
   "id": "e38e5780-819c-46be-8119-2441efb23894",
   "metadata": {},
   "source": [
    "#### 6. GDPの中央値"
   ]
  },
  {
   "cell_type": "code",
   "execution_count": 10,
   "id": "831b5184-6fd5-4d40-9895-18c7ad80334c",
   "metadata": {},
   "outputs": [
    {
     "name": "stdout",
     "output_type": "stream",
     "text": [
      "6124.3711085\n"
     ]
    }
   ],
   "source": [
    "print(df[\"gdpPercap\"].median())"
   ]
  },
  {
   "cell_type": "markdown",
   "id": "81a789f8-78a1-4ede-bce5-5e39d9f1466d",
   "metadata": {},
   "source": [
    "#### 7. 人口の総和"
   ]
  },
  {
   "cell_type": "code",
   "execution_count": 11,
   "id": "ddb98cc0-c3c0-4b24-9587-3a844dde9642",
   "metadata": {},
   "outputs": [
    {
     "name": "stdout",
     "output_type": "stream",
     "text": [
      "6251013179\n"
     ]
    }
   ],
   "source": [
    "print(df[\"pop\"].sum())"
   ]
  },
  {
   "cell_type": "markdown",
   "id": "8b7106ba-9b34-4a1f-89b6-a8950b5a7016",
   "metadata": {},
   "source": [
    "#### 8. ヒストグラムの描画"
   ]
  },
  {
   "cell_type": "code",
   "execution_count": 12,
   "id": "4904cd7a-cc39-4be6-8aa1-25d8b2624301",
   "metadata": {},
   "outputs": [
    {
     "data": {
      "image/png": "[encoded data removed]",
      "text/plain": [
       "<Figure size 640x480 with 1 Axes>"
      ]
     },
     "metadata": {},
     "output_type": "display_data"
    }
   ],
   "source": [
    "plt.hist(df[\"lifeExp\"], bins=20)\n",
    "plt.xlabel(\"Life expectancy [years]\")\n",
    "plt.ylabel(\"Frequency\")\n",
    "plt.show()"
   ]
  },
  {
   "cell_type": "markdown",
   "id": "05a174e0-6cfc-467e-93de-c3a0b3d3897b",
   "metadata": {},
   "source": [
    "#### 9. 箱ひげ"
   ]
  },
  {
   "cell_type": "code",
   "execution_count": 13,
   "id": "a6062013-b7a5-49f3-b4f3-6252fcb1dc86",
   "metadata": {},
   "outputs": [
    {
     "data": {
      "image/png": "[encoded data removed]",
      "text/plain": [
       "<Figure size 640x480 with 1 Axes>"
      ]
     },
     "metadata": {},
     "output_type": "display_data"
    }
   ],
   "source": [
    "plt.boxplot(df[\"lifeExp\"])\n",
    "plt.ylabel(\"Life expectancy [years]\")\n",
    "plt.show()"
   ]
  },
  {
   "cell_type": "code",
   "execution_count": null,
   "id": "a37b38cf-c25a-41aa-95ea-5f5253f18c29",
   "metadata": {},
   "outputs": [],
   "source": []
  }
 ],
 "metadata": {
  "kernelspec": {
   "display_name": "Python 3 (ipykernel)",
   "language": "python",
   "name": "python3"
  },
  "language_info": {
   "codemirror_mode": {
    "name": "ipython",
    "version": 3
   },
   "file_extension": ".py",
   "mimetype": "text/x-python",
   "name": "python",
   "nbconvert_exporter": "python",
   "pygments_lexer": "ipython3",
   "version": "3.9.15"
  }
 },
 "nbformat": 4,
 "nbformat_minor": 5
}
