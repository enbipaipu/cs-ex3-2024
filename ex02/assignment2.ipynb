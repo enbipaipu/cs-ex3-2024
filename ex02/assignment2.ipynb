{
 "cells": [
  {
   "cell_type": "code",
   "execution_count": 1,
   "id": "7c1e4285-990a-409a-9f2e-b937d1675027",
   "metadata": {},
   "outputs": [],
   "source": [
    "import pandas as pd"
   ]
  },
  {
   "cell_type": "markdown",
   "id": "2f1c4865-0223-4984-a675-00940ec43966",
   "metadata": {},
   "source": [
    "#### ファイルの読み込み"
   ]
  },
  {
   "cell_type": "code",
   "execution_count": 2,
   "id": "ddc2284e-aa7e-4b5c-9ce5-bbc012917221",
   "metadata": {},
   "outputs": [
    {
     "data": {
      "text/html": [
       "<div>\n",
       "<style scoped>\n",
       "    .dataframe tbody tr th:only-of-type {\n",
       "        vertical-align: middle;\n",
       "    }\n",
       "\n",
       "    .dataframe tbody tr th {\n",
       "        vertical-align: top;\n",
       "    }\n",
       "\n",
       "    .dataframe thead th {\n",
       "        text-align: right;\n",
       "    }\n",
       "</style>\n",
       "<table border=\"1\" class=\"dataframe\">\n",
       "  <thead>\n",
       "    <tr style=\"text-align: right;\">\n",
       "      <th></th>\n",
       "      <th>pref</th>\n",
       "      <th>pop</th>\n",
       "      <th>birth</th>\n",
       "      <th>death</th>\n",
       "    </tr>\n",
       "  </thead>\n",
       "  <tbody>\n",
       "    <tr>\n",
       "      <th>0</th>\n",
       "      <td>Ibaraki</td>\n",
       "      <td>2852000</td>\n",
       "      <td>17389</td>\n",
       "      <td>32931</td>\n",
       "    </tr>\n",
       "    <tr>\n",
       "      <th>1</th>\n",
       "      <td>Tochigi</td>\n",
       "      <td>1921000</td>\n",
       "      <td>11808</td>\n",
       "      <td>21702</td>\n",
       "    </tr>\n",
       "    <tr>\n",
       "      <th>2</th>\n",
       "      <td>Gunma</td>\n",
       "      <td>1927000</td>\n",
       "      <td>11660</td>\n",
       "      <td>23286</td>\n",
       "    </tr>\n",
       "    <tr>\n",
       "      <th>3</th>\n",
       "      <td>Saitama</td>\n",
       "      <td>7340000</td>\n",
       "      <td>47328</td>\n",
       "      <td>70758</td>\n",
       "    </tr>\n",
       "    <tr>\n",
       "      <th>4</th>\n",
       "      <td>Chiba</td>\n",
       "      <td>6275000</td>\n",
       "      <td>40168</td>\n",
       "      <td>62118</td>\n",
       "    </tr>\n",
       "    <tr>\n",
       "      <th>5</th>\n",
       "      <td>Tokyo</td>\n",
       "      <td>14010000</td>\n",
       "      <td>99661</td>\n",
       "      <td>121219</td>\n",
       "    </tr>\n",
       "    <tr>\n",
       "      <th>6</th>\n",
       "      <td>Kanagawa</td>\n",
       "      <td>9236000</td>\n",
       "      <td>60865</td>\n",
       "      <td>84601</td>\n",
       "    </tr>\n",
       "  </tbody>\n",
       "</table>\n",
       "</div>"
      ],
      "text/plain": [
       "       pref       pop  birth   death\n",
       "0   Ibaraki   2852000  17389   32931\n",
       "1   Tochigi   1921000  11808   21702\n",
       "2     Gunma   1927000  11660   23286\n",
       "3   Saitama   7340000  47328   70758\n",
       "4     Chiba   6275000  40168   62118\n",
       "5     Tokyo  14010000  99661  121219\n",
       "6  Kanagawa   9236000  60865   84601"
      ]
     },
     "metadata": {},
     "output_type": "display_data"
    }
   ],
   "source": [
    "df = pd.read_csv(\"data/kanto_populations.csv\", sep=\",\", skiprows=5, header=0, )\n",
    "display(df)"
   ]
  },
  {
   "cell_type": "markdown",
   "id": "2cca23a6-bc86-4d36-81c5-dea1d1430ff7",
   "metadata": {},
   "source": [
    "#### 1:dfのデータ数と列数"
   ]
  },
  {
   "cell_type": "code",
   "execution_count": 3,
   "id": "d60f0bf3-8662-490b-b228-074742d86cdd",
   "metadata": {},
   "outputs": [
    {
     "name": "stdout",
     "output_type": "stream",
     "text": [
      "(7, 4)\n"
     ]
    }
   ],
   "source": [
    "print(df.shape)"
   ]
  },
  {
   "cell_type": "markdown",
   "id": "7603ba78-4d6e-4996-a115-9fc74f95d9b1",
   "metadata": {},
   "source": [
    "#### pop列のデータ型"
   ]
  },
  {
   "cell_type": "code",
   "execution_count": 4,
   "id": "074f893e-122a-44b7-afc7-47372b85c451",
   "metadata": {},
   "outputs": [
    {
     "name": "stdout",
     "output_type": "stream",
     "text": [
      "<class 'pandas.core.series.Series'>\n",
      "RangeIndex: 7 entries, 0 to 6\n",
      "Series name: pop\n",
      "Non-Null Count  Dtype\n",
      "--------------  -----\n",
      "7 non-null      int64\n",
      "dtypes: int64(1)\n",
      "memory usage: 184.0 bytes\n",
      "None\n"
     ]
    }
   ],
   "source": [
    "print(df[\"pop\"].info())"
   ]
  },
  {
   "cell_type": "markdown",
   "id": "6d6c1c9c-97fe-4035-b4f4-48022a0229e2",
   "metadata": {},
   "source": [
    "#### 都県のみ"
   ]
  },
  {
   "cell_type": "code",
   "execution_count": 5,
   "id": "39af0b50-843a-416d-a8d9-813032f69c08",
   "metadata": {},
   "outputs": [
    {
     "data": {
      "text/plain": [
       "0     Ibaraki\n",
       "1     Tochigi\n",
       "2       Gunma\n",
       "3     Saitama\n",
       "4       Chiba\n",
       "5       Tokyo\n",
       "6    Kanagawa\n",
       "Name: pref, dtype: object"
      ]
     },
     "metadata": {},
     "output_type": "display_data"
    }
   ],
   "source": [
    "display(df[\"pref\"])"
   ]
  },
  {
   "cell_type": "markdown",
   "id": "a87afbda-136f-49e0-9ab9-b782ec814d52",
   "metadata": {},
   "source": [
    "#### 都県の列と人口"
   ]
  },
  {
   "cell_type": "code",
   "execution_count": 6,
   "id": "5734aba0-0df9-4539-9924-d5e3237e4cbd",
   "metadata": {},
   "outputs": [
    {
     "data": {
      "text/html": [
       "<div>\n",
       "<style scoped>\n",
       "    .dataframe tbody tr th:only-of-type {\n",
       "        vertical-align: middle;\n",
       "    }\n",
       "\n",
       "    .dataframe tbody tr th {\n",
       "        vertical-align: top;\n",
       "    }\n",
       "\n",
       "    .dataframe thead th {\n",
       "        text-align: right;\n",
       "    }\n",
       "</style>\n",
       "<table border=\"1\" class=\"dataframe\">\n",
       "  <thead>\n",
       "    <tr style=\"text-align: right;\">\n",
       "      <th></th>\n",
       "      <th>pref</th>\n",
       "      <th>pop</th>\n",
       "    </tr>\n",
       "  </thead>\n",
       "  <tbody>\n",
       "    <tr>\n",
       "      <th>0</th>\n",
       "      <td>Ibaraki</td>\n",
       "      <td>2852000</td>\n",
       "    </tr>\n",
       "    <tr>\n",
       "      <th>1</th>\n",
       "      <td>Tochigi</td>\n",
       "      <td>1921000</td>\n",
       "    </tr>\n",
       "    <tr>\n",
       "      <th>2</th>\n",
       "      <td>Gunma</td>\n",
       "      <td>1927000</td>\n",
       "    </tr>\n",
       "    <tr>\n",
       "      <th>3</th>\n",
       "      <td>Saitama</td>\n",
       "      <td>7340000</td>\n",
       "    </tr>\n",
       "    <tr>\n",
       "      <th>4</th>\n",
       "      <td>Chiba</td>\n",
       "      <td>6275000</td>\n",
       "    </tr>\n",
       "    <tr>\n",
       "      <th>5</th>\n",
       "      <td>Tokyo</td>\n",
       "      <td>14010000</td>\n",
       "    </tr>\n",
       "    <tr>\n",
       "      <th>6</th>\n",
       "      <td>Kanagawa</td>\n",
       "      <td>9236000</td>\n",
       "    </tr>\n",
       "  </tbody>\n",
       "</table>\n",
       "</div>"
      ],
      "text/plain": [
       "       pref       pop\n",
       "0   Ibaraki   2852000\n",
       "1   Tochigi   1921000\n",
       "2     Gunma   1927000\n",
       "3   Saitama   7340000\n",
       "4     Chiba   6275000\n",
       "5     Tokyo  14010000\n",
       "6  Kanagawa   9236000"
      ]
     },
     "metadata": {},
     "output_type": "display_data"
    }
   ],
   "source": [
    "display(df[[\"pref\", \"pop\"]])"
   ]
  },
  {
   "cell_type": "markdown",
   "id": "f04c200f-d681-44a0-bbab-92c1e6dc4abf",
   "metadata": {},
   "source": [
    "#### 栃木群馬埼玉の人口のみ"
   ]
  },
  {
   "cell_type": "code",
   "execution_count": 7,
   "id": "80d7b858-f986-497c-9e84-0fd730bd3c39",
   "metadata": {},
   "outputs": [
    {
     "data": {
      "text/plain": [
       "1    1921000\n",
       "2    1927000\n",
       "3    7340000\n",
       "Name: pop, dtype: int64"
      ]
     },
     "metadata": {},
     "output_type": "display_data"
    }
   ],
   "source": [
    "display(df.loc[1:3, \"pop\"])"
   ]
  },
  {
   "cell_type": "markdown",
   "id": "cf1ab3e9-2157-4da4-895a-6dc48ca557f7",
   "metadata": {},
   "source": [
    "#### 千葉の生まれ数"
   ]
  },
  {
   "cell_type": "code",
   "execution_count": 8,
   "id": "5df55c2a-a119-4f2d-9357-6fb99cfeca6e",
   "metadata": {},
   "outputs": [
    {
     "name": "stdout",
     "output_type": "stream",
     "text": [
      "40168\n"
     ]
    }
   ],
   "source": [
    "print(df.loc[4, \"birth\"])"
   ]
  },
  {
   "cell_type": "markdown",
   "id": "623f8fbf-8025-4bc1-a7c0-beed703e690d",
   "metadata": {},
   "source": [
    "#### 東京の死者"
   ]
  },
  {
   "cell_type": "code",
   "execution_count": 9,
   "id": "98b8d918-2e00-4e43-8857-c256860b94d1",
   "metadata": {},
   "outputs": [
    {
     "name": "stdout",
     "output_type": "stream",
     "text": [
      "121219\n"
     ]
    }
   ],
   "source": [
    "print(df.loc[5, \"death\"])"
   ]
  },
  {
   "cell_type": "code",
   "execution_count": null,
   "id": "40069b4f-46c0-42c7-a221-05baa936030e",
   "metadata": {},
   "outputs": [],
   "source": []
  }
 ],
 "metadata": {
  "kernelspec": {
   "display_name": "Python 3 (ipykernel)",
   "language": "python",
   "name": "python3"
  },
  "language_info": {
   "codemirror_mode": {
    "name": "ipython",
    "version": 3
   },
   "file_extension": ".py",
   "mimetype": "text/x-python",
   "name": "python",
   "nbconvert_exporter": "python",
   "pygments_lexer": "ipython3",
   "version": "3.9.15"
  }
 },
 "nbformat": 4,
 "nbformat_minor": 5
}
