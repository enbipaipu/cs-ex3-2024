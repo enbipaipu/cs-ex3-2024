{
 "cells": [
  {
   "cell_type": "code",
   "execution_count": 1,
   "id": "ba30377f-2d68-4822-b200-aaf08438289d",
   "metadata": {},
   "outputs": [],
   "source": [
    "import pandas as pd\n",
    "import numpy as np"
   ]
  },
  {
   "cell_type": "markdown",
   "id": "a363cd1e-671c-4e27-870a-5e8a5829fb57",
   "metadata": {},
   "source": [
    "#### データの読み込み"
   ]
  },
  {
   "cell_type": "code",
   "execution_count": 2,
   "id": "4997413b-d444-40ad-80e6-de610e0ca101",
   "metadata": {},
   "outputs": [
    {
     "data": {
      "text/html": [
       "<div>\n",
       "<style scoped>\n",
       "    .dataframe tbody tr th:only-of-type {\n",
       "        vertical-align: middle;\n",
       "    }\n",
       "\n",
       "    .dataframe tbody tr th {\n",
       "        vertical-align: top;\n",
       "    }\n",
       "\n",
       "    .dataframe thead th {\n",
       "        text-align: right;\n",
       "    }\n",
       "</style>\n",
       "<table border=\"1\" class=\"dataframe\">\n",
       "  <thead>\n",
       "    <tr style=\"text-align: right;\">\n",
       "      <th></th>\n",
       "      <th>Campus</th>\n",
       "      <th>Male</th>\n",
       "      <th>Female</th>\n",
       "      <th>Sum</th>\n",
       "    </tr>\n",
       "  </thead>\n",
       "  <tbody>\n",
       "    <tr>\n",
       "      <th>0</th>\n",
       "      <td>Hakusan</td>\n",
       "      <td>11204</td>\n",
       "      <td>9199</td>\n",
       "      <td>20403</td>\n",
       "    </tr>\n",
       "    <tr>\n",
       "      <th>1</th>\n",
       "      <td>Kawagoe</td>\n",
       "      <td>3845</td>\n",
       "      <td>858</td>\n",
       "      <td>4703</td>\n",
       "    </tr>\n",
       "    <tr>\n",
       "      <th>2</th>\n",
       "      <td>Itakura</td>\n",
       "      <td>996</td>\n",
       "      <td>865</td>\n",
       "      <td>1861</td>\n",
       "    </tr>\n",
       "    <tr>\n",
       "      <th>3</th>\n",
       "      <td>Akabanedai</td>\n",
       "      <td>2183</td>\n",
       "      <td>1697</td>\n",
       "      <td>3880</td>\n",
       "    </tr>\n",
       "  </tbody>\n",
       "</table>\n",
       "</div>"
      ],
      "text/plain": [
       "       Campus   Male  Female    Sum\n",
       "0     Hakusan  11204    9199  20403\n",
       "1     Kawagoe   3845     858   4703\n",
       "2     Itakura    996     865   1861\n",
       "3  Akabanedai   2183    1697   3880"
      ]
     },
     "metadata": {},
     "output_type": "display_data"
    },
    {
     "name": "stdout",
     "output_type": "stream",
     "text": [
      "(4, 4)\n",
      "<class 'pandas.core.frame.DataFrame'>\n",
      "RangeIndex: 4 entries, 0 to 3\n",
      "Data columns (total 4 columns):\n",
      " #   Column  Non-Null Count  Dtype \n",
      "---  ------  --------------  ----- \n",
      " 0   Campus  4 non-null      object\n",
      " 1   Male    4 non-null      int64 \n",
      " 2   Female  4 non-null      int64 \n",
      " 3   Sum     4 non-null      int64 \n",
      "dtypes: int64(3), object(1)\n",
      "memory usage: 256.0+ bytes\n",
      "None\n"
     ]
    }
   ],
   "source": [
    "df = pd.read_csv(\"data/toyo_students.csv\", sep=\",\", skiprows=1, header=0)\n",
    "display(df)\n",
    "print(df.shape)\n",
    "print(df.info())\n",
    "arr = df.to_numpy()"
   ]
  },
  {
   "cell_type": "markdown",
   "id": "fdb1bec7-cf17-4881-b75a-95445898bd07",
   "metadata": {},
   "source": [
    "#### 1:白山の男子"
   ]
  },
  {
   "cell_type": "code",
   "execution_count": 3,
   "id": "b8de3b6b-9b4a-40f6-bc20-bb921edcc2e1",
   "metadata": {},
   "outputs": [
    {
     "name": "stdout",
     "output_type": "stream",
     "text": [
      "11204\n",
      "11204\n"
     ]
    }
   ],
   "source": [
    "print(df.at[0, \"Male\"])\n",
    "print(arr[0][1])"
   ]
  },
  {
   "cell_type": "markdown",
   "id": "0d408b7b-5487-49d8-9549-dd88edc60441",
   "metadata": {},
   "source": [
    "#### 2:赤羽の全学生数"
   ]
  },
  {
   "cell_type": "code",
   "execution_count": 4,
   "id": "04f27936-f7b2-4899-aff8-c067b1857a9e",
   "metadata": {},
   "outputs": [
    {
     "name": "stdout",
     "output_type": "stream",
     "text": [
      "3880\n",
      "3880\n"
     ]
    }
   ],
   "source": [
    "print(df.at[3, \"Sum\"])\n",
    "print(arr[3][3])"
   ]
  },
  {
   "cell_type": "markdown",
   "id": "9362843e-e92e-4ac0-b0bb-97b6c2cbc5c3",
   "metadata": {},
   "source": [
    "#### 3:川越の男子を3850に変更"
   ]
  },
  {
   "cell_type": "code",
   "execution_count": 5,
   "id": "e823480a-4adc-4887-9d68-8e93c68b24b0",
   "metadata": {},
   "outputs": [],
   "source": [
    "df.at[1, \"Male\"] = 3850\n",
    "arr[1][1] = 3850"
   ]
  },
  {
   "cell_type": "markdown",
   "id": "6671c5c4-a496-4457-a6ac-9c5b746d9c2a",
   "metadata": {},
   "source": [
    "#### 4:川越の全学生数を4708に変更"
   ]
  },
  {
   "cell_type": "code",
   "execution_count": 6,
   "id": "5832eb1c-a6dd-4ff4-a49d-d2901431b7aa",
   "metadata": {},
   "outputs": [],
   "source": [
    "df.at[1, \"Sum\"] = 4708\n",
    "arr[1][3] = 4708"
   ]
  },
  {
   "cell_type": "markdown",
   "id": "31f7c017-82f4-4425-b5dd-d656b3aa56f6",
   "metadata": {},
   "source": [
    "#### 5:変更後のDataFrameとndarrayを表示"
   ]
  },
  {
   "cell_type": "code",
   "execution_count": 7,
   "id": "98d9744a-eb7e-475e-b84c-b5ec1a816aad",
   "metadata": {},
   "outputs": [
    {
     "data": {
      "text/html": [
       "<div>\n",
       "<style scoped>\n",
       "    .dataframe tbody tr th:only-of-type {\n",
       "        vertical-align: middle;\n",
       "    }\n",
       "\n",
       "    .dataframe tbody tr th {\n",
       "        vertical-align: top;\n",
       "    }\n",
       "\n",
       "    .dataframe thead th {\n",
       "        text-align: right;\n",
       "    }\n",
       "</style>\n",
       "<table border=\"1\" class=\"dataframe\">\n",
       "  <thead>\n",
       "    <tr style=\"text-align: right;\">\n",
       "      <th></th>\n",
       "      <th>Campus</th>\n",
       "      <th>Male</th>\n",
       "      <th>Female</th>\n",
       "      <th>Sum</th>\n",
       "    </tr>\n",
       "  </thead>\n",
       "  <tbody>\n",
       "    <tr>\n",
       "      <th>0</th>\n",
       "      <td>Hakusan</td>\n",
       "      <td>11204</td>\n",
       "      <td>9199</td>\n",
       "      <td>20403</td>\n",
       "    </tr>\n",
       "    <tr>\n",
       "      <th>1</th>\n",
       "      <td>Kawagoe</td>\n",
       "      <td>3850</td>\n",
       "      <td>858</td>\n",
       "      <td>4708</td>\n",
       "    </tr>\n",
       "    <tr>\n",
       "      <th>2</th>\n",
       "      <td>Itakura</td>\n",
       "      <td>996</td>\n",
       "      <td>865</td>\n",
       "      <td>1861</td>\n",
       "    </tr>\n",
       "    <tr>\n",
       "      <th>3</th>\n",
       "      <td>Akabanedai</td>\n",
       "      <td>2183</td>\n",
       "      <td>1697</td>\n",
       "      <td>3880</td>\n",
       "    </tr>\n",
       "  </tbody>\n",
       "</table>\n",
       "</div>"
      ],
      "text/plain": [
       "       Campus   Male  Female    Sum\n",
       "0     Hakusan  11204    9199  20403\n",
       "1     Kawagoe   3850     858   4708\n",
       "2     Itakura    996     865   1861\n",
       "3  Akabanedai   2183    1697   3880"
      ]
     },
     "metadata": {},
     "output_type": "display_data"
    },
    {
     "name": "stdout",
     "output_type": "stream",
     "text": [
      "[['Hakusan' 11204 9199 20403]\n",
      " ['Kawagoe' 3850 858 4708]\n",
      " ['Itakura' 996 865 1861]\n",
      " ['Akabanedai' 2183 1697 3880]]\n"
     ]
    }
   ],
   "source": [
    "display(df)\n",
    "print(arr)"
   ]
  },
  {
   "cell_type": "code",
   "execution_count": null,
   "id": "ffefb256-c8a1-4270-8c1c-02626e152db9",
   "metadata": {},
   "outputs": [],
   "source": []
  }
 ],
 "metadata": {
  "kernelspec": {
   "display_name": "Python 3 (ipykernel)",
   "language": "python",
   "name": "python3"
  },
  "language_info": {
   "codemirror_mode": {
    "name": "ipython",
    "version": 3
   },
   "file_extension": ".py",
   "mimetype": "text/x-python",
   "name": "python",
   "nbconvert_exporter": "python",
   "pygments_lexer": "ipython3",
   "version": "3.9.15"
  }
 },
 "nbformat": 4,
 "nbformat_minor": 5
}
