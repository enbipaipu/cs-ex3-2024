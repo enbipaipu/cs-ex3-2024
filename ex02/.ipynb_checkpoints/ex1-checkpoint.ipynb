{
 "cells": [
  {
   "cell_type": "markdown",
   "id": "d053629b-d2dd-41a6-bff6-25e540e7156e",
   "metadata": {},
   "source": [
    "#### データファイルの読み込み"
   ]
  },
  {
   "cell_type": "code",
   "execution_count": 1,
   "id": "8ccdd4e6-8a5e-4f28-b8c9-c9373468e637",
   "metadata": {},
   "outputs": [],
   "source": [
    "import pandas as pd"
   ]
  },
  {
   "cell_type": "markdown",
   "id": "822f6451-8135-41b3-9312-6baa4c54940d",
   "metadata": {},
   "source": [
    "#### stock_price.csvの読み込み"
   ]
  },
  {
   "cell_type": "code",
   "execution_count": 2,
   "id": "2684b6dd-3b3f-4507-ba10-3c2d36d765b7",
   "metadata": {},
   "outputs": [
    {
     "data": {
      "text/html": [
       "<div>\n",
       "<style scoped>\n",
       "    .dataframe tbody tr th:only-of-type {\n",
       "        vertical-align: middle;\n",
       "    }\n",
       "\n",
       "    .dataframe tbody tr th {\n",
       "        vertical-align: top;\n",
       "    }\n",
       "\n",
       "    .dataframe thead th {\n",
       "        text-align: right;\n",
       "    }\n",
       "</style>\n",
       "<table border=\"1\" class=\"dataframe\">\n",
       "  <thead>\n",
       "    <tr style=\"text-align: right;\">\n",
       "      <th></th>\n",
       "      <th>Date</th>\n",
       "      <th>HITACHI</th>\n",
       "      <th>TOSHIBA</th>\n",
       "      <th>NEC</th>\n",
       "      <th>SONY</th>\n",
       "      <th>NISSAN</th>\n",
       "      <th>TOYOTA</th>\n",
       "    </tr>\n",
       "  </thead>\n",
       "  <tbody>\n",
       "    <tr>\n",
       "      <th>0</th>\n",
       "      <td>200501</td>\n",
       "      <td>688</td>\n",
       "      <td>419</td>\n",
       "      <td>594</td>\n",
       "      <td>3840</td>\n",
       "      <td>1095</td>\n",
       "      <td>4030</td>\n",
       "    </tr>\n",
       "    <tr>\n",
       "      <th>1</th>\n",
       "      <td>200502</td>\n",
       "      <td>663</td>\n",
       "      <td>460</td>\n",
       "      <td>679</td>\n",
       "      <td>3990</td>\n",
       "      <td>1125</td>\n",
       "      <td>4070</td>\n",
       "    </tr>\n",
       "    <tr>\n",
       "      <th>2</th>\n",
       "      <td>200503</td>\n",
       "      <td>666</td>\n",
       "      <td>448</td>\n",
       "      <td>648</td>\n",
       "      <td>4270</td>\n",
       "      <td>1099</td>\n",
       "      <td>3990</td>\n",
       "    </tr>\n",
       "    <tr>\n",
       "      <th>3</th>\n",
       "      <td>200504</td>\n",
       "      <td>620</td>\n",
       "      <td>430</td>\n",
       "      <td>578</td>\n",
       "      <td>3920</td>\n",
       "      <td>1040</td>\n",
       "      <td>3840</td>\n",
       "    </tr>\n",
       "    <tr>\n",
       "      <th>4</th>\n",
       "      <td>200505</td>\n",
       "      <td>652</td>\n",
       "      <td>445</td>\n",
       "      <td>603</td>\n",
       "      <td>4060</td>\n",
       "      <td>1067</td>\n",
       "      <td>3860</td>\n",
       "    </tr>\n",
       "  </tbody>\n",
       "</table>\n",
       "</div>"
      ],
      "text/plain": [
       "     Date  HITACHI  TOSHIBA  NEC  SONY  NISSAN  TOYOTA\n",
       "0  200501      688      419  594  3840    1095    4030\n",
       "1  200502      663      460  679  3990    1125    4070\n",
       "2  200503      666      448  648  4270    1099    3990\n",
       "3  200504      620      430  578  3920    1040    3840\n",
       "4  200505      652      445  603  4060    1067    3860"
      ]
     },
     "metadata": {},
     "output_type": "display_data"
    },
    {
     "name": "stdout",
     "output_type": "stream",
     "text": [
      "(48, 7)\n",
      "<class 'pandas.core.frame.DataFrame'>\n",
      "RangeIndex: 48 entries, 0 to 47\n",
      "Data columns (total 7 columns):\n",
      " #   Column   Non-Null Count  Dtype\n",
      "---  ------   --------------  -----\n",
      " 0   Date     48 non-null     int64\n",
      " 1   HITACHI  48 non-null     int64\n",
      " 2   TOSHIBA  48 non-null     int64\n",
      " 3   NEC      48 non-null     int64\n",
      " 4   SONY     48 non-null     int64\n",
      " 5   NISSAN   48 non-null     int64\n",
      " 6   TOYOTA   48 non-null     int64\n",
      "dtypes: int64(7)\n",
      "memory usage: 2.8 KB\n",
      "None\n"
     ]
    }
   ],
   "source": [
    "df1 = pd.read_csv(\"data/stock_price.csv\", sep=\",\")\n",
    "display(df1.head())\n",
    "print(df1.shape)\n",
    "print(df1.info())"
   ]
  },
  {
   "cell_type": "markdown",
   "id": "6101b9e5-1bdc-4c8d-8992-d1e75b5bf266",
   "metadata": {},
   "source": [
    "#### s1-rdata.csvの読み込み"
   ]
  },
  {
   "cell_type": "code",
   "execution_count": 3,
   "id": "488979be-c78c-475a-b4b7-0d931bf1b5dc",
   "metadata": {},
   "outputs": [
    {
     "data": {
      "text/html": [
       "<div>\n",
       "<style scoped>\n",
       "    .dataframe tbody tr th:only-of-type {\n",
       "        vertical-align: middle;\n",
       "    }\n",
       "\n",
       "    .dataframe tbody tr th {\n",
       "        vertical-align: top;\n",
       "    }\n",
       "\n",
       "    .dataframe thead th {\n",
       "        text-align: right;\n",
       "    }\n",
       "</style>\n",
       "<table border=\"1\" class=\"dataframe\">\n",
       "  <thead>\n",
       "    <tr style=\"text-align: right;\">\n",
       "      <th></th>\n",
       "      <th>5</th>\n",
       "      <th>50</th>\n",
       "    </tr>\n",
       "  </thead>\n",
       "  <tbody>\n",
       "    <tr>\n",
       "      <th>0</th>\n",
       "      <td>4</td>\n",
       "      <td>40</td>\n",
       "    </tr>\n",
       "    <tr>\n",
       "      <th>1</th>\n",
       "      <td>3</td>\n",
       "      <td>30</td>\n",
       "    </tr>\n",
       "    <tr>\n",
       "      <th>2</th>\n",
       "      <td>13</td>\n",
       "      <td>130</td>\n",
       "    </tr>\n",
       "    <tr>\n",
       "      <th>3</th>\n",
       "      <td>8</td>\n",
       "      <td>80</td>\n",
       "    </tr>\n",
       "    <tr>\n",
       "      <th>4</th>\n",
       "      <td>2</td>\n",
       "      <td>20</td>\n",
       "    </tr>\n",
       "  </tbody>\n",
       "</table>\n",
       "</div>"
      ],
      "text/plain": [
       "    5   50\n",
       "0   4   40\n",
       "1   3   30\n",
       "2  13  130\n",
       "3   8   80\n",
       "4   2   20"
      ]
     },
     "metadata": {},
     "output_type": "display_data"
    },
    {
     "name": "stdout",
     "output_type": "stream",
     "text": [
      "(5, 2)\n",
      "<class 'pandas.core.frame.DataFrame'>\n",
      "RangeIndex: 5 entries, 0 to 4\n",
      "Data columns (total 2 columns):\n",
      " #   Column  Non-Null Count  Dtype\n",
      "---  ------  --------------  -----\n",
      " 0    5      5 non-null      int64\n",
      " 1     50    5 non-null      int64\n",
      "dtypes: int64(2)\n",
      "memory usage: 208.0 bytes\n",
      "None\n"
     ]
    }
   ],
   "source": [
    "df2 = pd.read_csv(\"data/s1-rdata.csv\", sep=\",\")\n",
    "display(df2.head())\n",
    "print(df2.shape)\n",
    "print(df2.info())"
   ]
  },
  {
   "cell_type": "markdown",
   "id": "925a41ef-9921-4655-9950-b69a61f70b98",
   "metadata": {},
   "source": [
    "#### gdp_1960_2016.txtの読み込み"
   ]
  },
  {
   "cell_type": "code",
   "execution_count": 4,
   "id": "d0c2985b-daa4-42b7-a404-3ec3b7f82927",
   "metadata": {},
   "outputs": [
    {
     "data": {
      "text/html": [
       "<div>\n",
       "<style scoped>\n",
       "    .dataframe tbody tr th:only-of-type {\n",
       "        vertical-align: middle;\n",
       "    }\n",
       "\n",
       "    .dataframe tbody tr th {\n",
       "        vertical-align: top;\n",
       "    }\n",
       "\n",
       "    .dataframe thead th {\n",
       "        text-align: right;\n",
       "    }\n",
       "</style>\n",
       "<table border=\"1\" class=\"dataframe\">\n",
       "  <thead>\n",
       "    <tr style=\"text-align: right;\">\n",
       "      <th></th>\n",
       "      <th>Year</th>\n",
       "      <th>China GDP</th>\n",
       "      <th>Japan GDP</th>\n",
       "      <th>USA GDP</th>\n",
       "    </tr>\n",
       "  </thead>\n",
       "  <tbody>\n",
       "    <tr>\n",
       "      <th>0</th>\n",
       "      <td>1960</td>\n",
       "      <td>5.971647e+10</td>\n",
       "      <td>4.409611e+10</td>\n",
       "      <td>543300000000</td>\n",
       "    </tr>\n",
       "    <tr>\n",
       "      <th>1</th>\n",
       "      <td>1961</td>\n",
       "      <td>5.005687e+10</td>\n",
       "      <td>5.321689e+10</td>\n",
       "      <td>563300000000</td>\n",
       "    </tr>\n",
       "    <tr>\n",
       "      <th>2</th>\n",
       "      <td>1962</td>\n",
       "      <td>4.720936e+10</td>\n",
       "      <td>6.036689e+10</td>\n",
       "      <td>605100000000</td>\n",
       "    </tr>\n",
       "    <tr>\n",
       "      <th>3</th>\n",
       "      <td>1963</td>\n",
       "      <td>5.070680e+10</td>\n",
       "      <td>6.906042e+10</td>\n",
       "      <td>638600000000</td>\n",
       "    </tr>\n",
       "    <tr>\n",
       "      <th>4</th>\n",
       "      <td>1964</td>\n",
       "      <td>5.970834e+10</td>\n",
       "      <td>8.116351e+10</td>\n",
       "      <td>685800000000</td>\n",
       "    </tr>\n",
       "  </tbody>\n",
       "</table>\n",
       "</div>"
      ],
      "text/plain": [
       "   Year     China GDP     Japan GDP       USA GDP\n",
       "0  1960  5.971647e+10  4.409611e+10  543300000000\n",
       "1  1961  5.005687e+10  5.321689e+10  563300000000\n",
       "2  1962  4.720936e+10  6.036689e+10  605100000000\n",
       "3  1963  5.070680e+10  6.906042e+10  638600000000\n",
       "4  1964  5.970834e+10  8.116351e+10  685800000000"
      ]
     },
     "metadata": {},
     "output_type": "display_data"
    },
    {
     "name": "stdout",
     "output_type": "stream",
     "text": [
      "(57, 4)\n",
      "<class 'pandas.core.frame.DataFrame'>\n",
      "RangeIndex: 57 entries, 0 to 56\n",
      "Data columns (total 4 columns):\n",
      " #   Column     Non-Null Count  Dtype  \n",
      "---  ------     --------------  -----  \n",
      " 0   Year       57 non-null     int64  \n",
      " 1   China GDP  57 non-null     float64\n",
      " 2   Japan GDP  57 non-null     float64\n",
      " 3   USA GDP    57 non-null     int64  \n",
      "dtypes: float64(2), int64(2)\n",
      "memory usage: 1.9 KB\n",
      "None\n"
     ]
    }
   ],
   "source": [
    "df3 = pd.read_csv(\"data/gdp_1960_2016.txt\", sep=\"\\t\",  skiprows=9, header=0)\n",
    "display(df3.head())\n",
    "print(df3.shape)\n",
    "print(df3.info())"
   ]
  },
  {
   "cell_type": "code",
   "execution_count": null,
   "id": "e5b09bc4-3014-4e3e-9dc1-2748073255ad",
   "metadata": {},
   "outputs": [],
   "source": []
  }
 ],
 "metadata": {
  "kernelspec": {
   "display_name": "Python 3 (ipykernel)",
   "language": "python",
   "name": "python3"
  },
  "language_info": {
   "codemirror_mode": {
    "name": "ipython",
    "version": 3
   },
   "file_extension": ".py",
   "mimetype": "text/x-python",
   "name": "python",
   "nbconvert_exporter": "python",
   "pygments_lexer": "ipython3",
   "version": "3.9.15"
  }
 },
 "nbformat": 4,
 "nbformat_minor": 5
}
